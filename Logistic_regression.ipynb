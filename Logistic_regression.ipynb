{
  "nbformat": 4,
  "nbformat_minor": 0,
  "metadata": {
    "colab": {
      "name": "Logistic regression.ipynb",
      "provenance": [],
      "authorship_tag": "ABX9TyPfyGWcx5C33Nv0Az3zp/mL",
      "include_colab_link": true
    },
    "kernelspec": {
      "name": "python3",
      "display_name": "Python 3"
    }
  },
  "cells": [
    {
      "cell_type": "markdown",
      "metadata": {
        "id": "view-in-github",
        "colab_type": "text"
      },
      "source": [
        "<a href=\"https://colab.research.google.com/github/jan3011/Prediction-of-Parkinson-disease/blob/master/Logistic_regression.ipynb\" target=\"_parent\"><img src=\"https://colab.research.google.com/assets/colab-badge.svg\" alt=\"Open In Colab\"/></a>"
      ]
    },
    {
      "cell_type": "code",
      "metadata": {
        "id": "Socnv-XVq8xM",
        "colab_type": "code",
        "colab": {}
      },
      "source": [
        "import pandas as pd  \n",
        "import numpy as np  \n",
        "from sklearn.model_selection import train_test_split \n",
        "from sklearn import metrics\n",
        "from sklearn.model_selection import train_test_split\n",
        "from sklearn.linear_model import LogisticRegression\n",
        "from google.colab import files\n",
        "df=files.upload()\n",
        "df=pd.read_csv('demographics (1).csv')\n",
        "df=df[['Gender','Age','Height (meters)','Weight (kg)','HoehnYahr','UPDRS','UPDRSM','TUAG','Speed_01 (m/sec)','Speed_10','Target']]\n",
        "df['Gender'] = df['Gender'].map({'male': 0, 'female': 1})\n",
        "df['HoehnYahr'].fillna(df.groupby('Target')['HoehnYahr'].transform(\"median\"),inplace=True)\n",
        "df['UPDRS'].fillna(df.groupby('Target')['UPDRS'].transform(\"median\"),inplace=True)\n",
        "df['Speed_10'].fillna(df.groupby('Target')['Speed_10'].transform(\"median\"),inplace=True)\n",
        "df['Height (meters)'].fillna(df.groupby('Target')['Height (meters)'].transform(\"median\"),inplace=True)\n",
        "df['Weight (kg)'].fillna(df.groupby('Target')['Weight (kg)'].transform(\"median\"),inplace=True)\n",
        "df['UPDRSM'].fillna(df.groupby('Target')['UPDRSM'].transform(\"median\"),inplace=True)\n",
        "df['TUAG'].fillna(df.groupby('Target')['TUAG'].transform(\"median\"),inplace=True)\n",
        "df['Speed_01 (m/sec)'].fillna(df.groupby('Target')['Speed_01 (m/sec)'].transform(\"median\"),inplace=True)\n",
        "feature_cols = ['Gender','Age','Height (meters)','Weight (kg)','HoehnYahr','UPDRS','UPDRSM','TUAG','Speed_01 (m/sec)','Speed_10']\n",
        "x = df[feature_cols] \n",
        "y = df.Target\n",
        "x_train, x_test, y_train, y_test = train_test_split(x, y, test_size=0.33, random_state=1)\n",
        "logmodel = LogisticRegression()\n",
        "logmodel.fit(x_train, y_train)\n",
        "a=input('Enter your gender male/female : [0/1] ')\n",
        "b=input('Enter your age : ')\n",
        "c=input('Enter your height : ')\n",
        "d=input('Enter your weight : ')\n",
        "e=input('HoehnYahr : ')\n",
        "f=input('UPDRS : ')\n",
        "g=input('UPDRSM : ')\n",
        "h=input('TUAG : ')\n",
        "i=input('speed_01 : ')\n",
        "j=input('speed_10 : ')\n",
        "y=0.20960829*float(a)+0.24066011*float(b)-0.0160451*float(c)-0.05383171*float(d)+1.13601452*float(e)+0.46693391*float(f)+0.26705249*float(g)+0.22108785*float(h)+0.01986023*float(i)+0.02669533*float(j)+11.45224632\n",
        "if(y==0) :\n",
        "   print('RESULT : Low chance of parkinson')\n",
        "else:\n",
        "   print('RESULT : Check with you doctor....You may have parkinson')\n",
        "\n"
      ],
      "execution_count": 0,
      "outputs": []
    }
  ]
}